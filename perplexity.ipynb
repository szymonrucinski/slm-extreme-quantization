{
 "cells": [
  {
   "cell_type": "code",
   "execution_count": 1,
   "id": "8846a918-2e69-4f1d-b81d-1907f8447281",
   "metadata": {},
   "outputs": [],
   "source": [
    "#!/usr/bin/env python3\n",
    "\n",
    "import torch\n",
    "from transformers import AutoModelForCausalLM, AutoTokenizer\n",
    "from datasets import load_dataset, Dataset\n",
    "from tqdm import tqdm\n",
    "import numpy as np\n",
    "\n",
    "\n",
    "def calculate_perplexity_batch(texts, model, tokenizer, max_length=2048):\n",
    "    \"\"\"Calculate perplexity for a batch of texts.\"\"\"\n",
    "    try:\n",
    "        encodings = tokenizer(\n",
    "            texts,\n",
    "            return_tensors='pt',\n",
    "            max_length=max_length,\n",
    "            truncation=True,\n",
    "            padding=False  # No padding\n",
    "        )\n",
    "        encodings = {k: v.to(model.device) for k, v in encodings.items()}\n",
    "        \n",
    "        with torch.no_grad():\n",
    "            outputs = model(**encodings)\n",
    "            shift_logits = outputs.logits[..., :-1, :].contiguous()\n",
    "            shift_labels = encodings['input_ids'][..., 1:].contiguous()\n",
    "            \n",
    "            loss_fct = torch.nn.CrossEntropyLoss(reduction='none')\n",
    "            losses = loss_fct(\n",
    "                shift_logits.view(-1, shift_logits.size(-1)),\n",
    "                shift_labels.view(-1)\n",
    "            )\n",
    "            \n",
    "            # Calculate mean loss\n",
    "            loss = losses.mean()\n",
    "            perplexity = torch.exp(loss).cpu().item()\n",
    "            \n",
    "        return [perplexity]  # Return as list for consistency\n",
    "    \n",
    "    except Exception as e:\n",
    "        print(f\"Error in batch: {e}\")\n",
    "        return [float('inf')]"
   ]
  },
  {
   "cell_type": "code",
   "execution_count": 2,
   "id": "151901d6-284c-4d5e-8943-11da8a4a1497",
   "metadata": {},
   "outputs": [
    {
     "name": "stdout",
     "output_type": "stream",
     "text": [
      "Loading DCLM-micro dataset...\n",
      "Loading meta-llama/Llama-3.1-8B for perplexity scoring...\n"
     ]
    },
    {
     "name": "stderr",
     "output_type": "stream",
     "text": [
      "/usr/local/lib/python3.10/dist-packages/torchvision/io/image.py:13: UserWarning: Failed to load image Python extension: '/usr/local/lib/python3.10/dist-packages/torchvision/image.so: undefined symbol: _ZN3c1017RegisterOperatorsD1Ev'If you don't plan on using image functionality from `torchvision.io`, you can ignore this warning. Otherwise, there might be something wrong with your environment. Did you have `libjpeg` or `libpng` installed before building `torchvision` from source?\n",
      "  warn(\n"
     ]
    },
    {
     "data": {
      "application/vnd.jupyter.widget-view+json": {
       "model_id": "b7a00fca338747f8b8297f7e597641fa",
       "version_major": 2,
       "version_minor": 0
      },
      "text/plain": [
       "Loading checkpoint shards:   0%|          | 0/4 [00:00<?, ?it/s]"
      ]
     },
     "metadata": {},
     "output_type": "display_data"
    },
    {
     "name": "stdout",
     "output_type": "stream",
     "text": [
      "Found 642 valid sequences\n"
     ]
    },
    {
     "name": "stderr",
     "output_type": "stream",
     "text": [
      "Calculating perplexities:  48%|████▊     | 10/21 [00:00<00:00, 96.88it/s]"
     ]
    },
    {
     "name": "stdout",
     "output_type": "stream",
     "text": [
      "Error in batch: Unable to create tensor, you should probably activate truncation and/or padding with 'padding=True' 'truncation=True' to have batched tensors with the same length. Perhaps your features (`input_ids` in this case) have excessive nesting (inputs type `list` where type `int` is expected).\n",
      "Error in batch: Unable to create tensor, you should probably activate truncation and/or padding with 'padding=True' 'truncation=True' to have batched tensors with the same length. Perhaps your features (`input_ids` in this case) have excessive nesting (inputs type `list` where type `int` is expected).\n",
      "Error in batch: Unable to create tensor, you should probably activate truncation and/or padding with 'padding=True' 'truncation=True' to have batched tensors with the same length. Perhaps your features (`input_ids` in this case) have excessive nesting (inputs type `list` where type `int` is expected).\n",
      "Error in batch: Unable to create tensor, you should probably activate truncation and/or padding with 'padding=True' 'truncation=True' to have batched tensors with the same length. Perhaps your features (`input_ids` in this case) have excessive nesting (inputs type `list` where type `int` is expected).\n",
      "Error in batch: Unable to create tensor, you should probably activate truncation and/or padding with 'padding=True' 'truncation=True' to have batched tensors with the same length. Perhaps your features (`input_ids` in this case) have excessive nesting (inputs type `list` where type `int` is expected).\n",
      "Error in batch: Unable to create tensor, you should probably activate truncation and/or padding with 'padding=True' 'truncation=True' to have batched tensors with the same length. Perhaps your features (`input_ids` in this case) have excessive nesting (inputs type `list` where type `int` is expected).\n",
      "Error in batch: Unable to create tensor, you should probably activate truncation and/or padding with 'padding=True' 'truncation=True' to have batched tensors with the same length. Perhaps your features (`input_ids` in this case) have excessive nesting (inputs type `list` where type `int` is expected).\n",
      "Error in batch: Unable to create tensor, you should probably activate truncation and/or padding with 'padding=True' 'truncation=True' to have batched tensors with the same length. Perhaps your features (`input_ids` in this case) have excessive nesting (inputs type `list` where type `int` is expected).\n",
      "Error in batch: Unable to create tensor, you should probably activate truncation and/or padding with 'padding=True' 'truncation=True' to have batched tensors with the same length. Perhaps your features (`input_ids` in this case) have excessive nesting (inputs type `list` where type `int` is expected).\n",
      "Error in batch: Unable to create tensor, you should probably activate truncation and/or padding with 'padding=True' 'truncation=True' to have batched tensors with the same length. Perhaps your features (`input_ids` in this case) have excessive nesting (inputs type `list` where type `int` is expected).\n",
      "Error in batch: Unable to create tensor, you should probably activate truncation and/or padding with 'padding=True' 'truncation=True' to have batched tensors with the same length. Perhaps your features (`input_ids` in this case) have excessive nesting (inputs type `list` where type `int` is expected).\n",
      "Error in batch: Unable to create tensor, you should probably activate truncation and/or padding with 'padding=True' 'truncation=True' to have batched tensors with the same length. Perhaps your features (`input_ids` in this case) have excessive nesting (inputs type `list` where type `int` is expected).\n",
      "Error in batch: Unable to create tensor, you should probably activate truncation and/or padding with 'padding=True' 'truncation=True' to have batched tensors with the same length. Perhaps your features (`input_ids` in this case) have excessive nesting (inputs type `list` where type `int` is expected).\n",
      "Error in batch: Unable to create tensor, you should probably activate truncation and/or padding with 'padding=True' 'truncation=True' to have batched tensors with the same length. Perhaps your features (`input_ids` in this case) have excessive nesting (inputs type `list` where type `int` is expected).\n",
      "Error in batch: Unable to create tensor, you should probably activate truncation and/or padding with 'padding=True' 'truncation=True' to have batched tensors with the same length. Perhaps your features (`input_ids` in this case) have excessive nesting (inputs type `list` where type `int` is expected).\n",
      "Error in batch: Unable to create tensor, you should probably activate truncation and/or padding with 'padding=True' 'truncation=True' to have batched tensors with the same length. Perhaps your features (`input_ids` in this case) have excessive nesting (inputs type `list` where type `int` is expected).\n",
      "Error in batch: Unable to create tensor, you should probably activate truncation and/or padding with 'padding=True' 'truncation=True' to have batched tensors with the same length. Perhaps your features (`input_ids` in this case) have excessive nesting (inputs type `list` where type `int` is expected).\n",
      "Error in batch: Unable to create tensor, you should probably activate truncation and/or padding with 'padding=True' 'truncation=True' to have batched tensors with the same length. Perhaps your features (`input_ids` in this case) have excessive nesting (inputs type `list` where type `int` is expected).\n"
     ]
    },
    {
     "name": "stderr",
     "output_type": "stream",
     "text": [
      "Calculating perplexities: 100%|██████████| 21/21 [00:00<00:00, 83.42it/s]\n"
     ]
    },
    {
     "name": "stdout",
     "output_type": "stream",
     "text": [
      "Error in batch: Unable to create tensor, you should probably activate truncation and/or padding with 'padding=True' 'truncation=True' to have batched tensors with the same length. Perhaps your features (`input_ids` in this case) have excessive nesting (inputs type `list` where type `int` is expected).\n",
      "Error in batch: Unable to create tensor, you should probably activate truncation and/or padding with 'padding=True' 'truncation=True' to have batched tensors with the same length. Perhaps your features (`input_ids` in this case) have excessive nesting (inputs type `list` where type `int` is expected).\n",
      "Error in batch: Unable to create tensor, you should probably activate truncation and/or padding with 'padding=True' 'truncation=True' to have batched tensors with the same length. Perhaps your features (`input_ids` in this case) have excessive nesting (inputs type `list` where type `int` is expected).\n",
      "Selecting best sequences...\n",
      "Selected 0 sequences for calibration\n",
      "\n",
      "Perplexity scores of selected sequences:\n",
      "\n",
      "Saving perplexity scores...\n"
     ]
    }
   ],
   "source": [
    "def main():\n",
    "    MODEL_ID = \"meta-llama/Llama-3.1-8B\"\n",
    "    NUM_SAMPLES = 128\n",
    "    BATCH_SIZE = 32\n",
    "    SEQUENCE_LENGTH = 2048\n",
    "    INITIAL_SAMPLES = 1000\n",
    "\n",
    "    print(\"Loading DCLM-micro dataset...\")\n",
    "    ds = load_dataset(\"robbiegwaldd/dclm-micro\")\n",
    "\n",
    "    print(f\"Loading {MODEL_ID} for perplexity scoring...\")\n",
    "    tokenizer = AutoTokenizer.from_pretrained(MODEL_ID)\n",
    "    model = AutoModelForCausalLM.from_pretrained(\n",
    "        MODEL_ID,\n",
    "        torch_dtype=torch.float16,\n",
    "        device_map=\"auto\",\n",
    "    )\n",
    "\n",
    "    indices = [int(i) for i in np.random.choice(len(ds['train']), INITIAL_SAMPLES, replace=False)]\n",
    "    initial_data = ds['train'].select(indices)\n",
    "    texts = initial_data['text']\n",
    "    valid_texts = [text[:SEQUENCE_LENGTH] for text in texts if len(text) >= SEQUENCE_LENGTH]\n",
    "    print(f\"Found {len(valid_texts)} valid sequences\")\n",
    "\n",
    "    perplexities = []\n",
    "    for i in tqdm(range(0, len(valid_texts), BATCH_SIZE), desc=\"Calculating perplexities\"):\n",
    "        batch = valid_texts[i:i + BATCH_SIZE]\n",
    "        try:\n",
    "            batch_perplexities = calculate_perplexity_batch(batch, model, tokenizer)\n",
    "            perplexities.extend(zip(batch, batch_perplexities))\n",
    "        except Exception as e:\n",
    "            print(f\"Error processing batch starting at index {i}: {e}\")\n",
    "            continue\n",
    "\n",
    "    print(\"Selecting best sequences...\")\n",
    "    perplexities = [(text, score) for text, score in perplexities if score != float('inf')]\n",
    "    best_sequences = sorted(perplexities, key=lambda x: x[1])[:NUM_SAMPLES]\n",
    "    calibration_texts = [seq for seq, _ in best_sequences]\n",
    "    calibration_data = Dataset.from_dict({'text': calibration_texts})\n",
    "\n",
    "    print(f\"Selected {len(calibration_texts)} sequences for calibration\")\n",
    "    print(\"\\nPerplexity scores of selected sequences:\")\n",
    "    for i, (_, score) in enumerate(best_sequences[:5]):\n",
    "        print(f\"Sequence {i + 1}: {score:.2f}\")\n",
    "\n",
    "    print(\"\\nSaving perplexity scores...\")\n",
    "    with open('perplexity_scores.txt', 'w') as f:\n",
    "        for text, score in best_sequences:\n",
    "            f.write(f\"{score:.4f}\\t{text[:100]}...\\n\")\n",
    "\n",
    "    del model\n",
    "    torch.cuda.empty_cache()\n",
    "    return calibration_data\n",
    "\n",
    "\n",
    "if __name__ == '__main__':\n",
    "    calibration_data = main()"
   ]
  },
  {
   "cell_type": "code",
   "execution_count": 3,
   "id": "7dadf994-99d5-4b7d-a3bf-bb5ec88fa9b1",
   "metadata": {},
   "outputs": [
    {
     "name": "stdout",
     "output_type": "stream",
     "text": [
      "Loading DCLM-micro dataset...\n",
      "Loading meta-llama/Llama-3.2-1B for perplexity scoring...\n"
     ]
    },
    {
     "data": {
      "application/vnd.jupyter.widget-view+json": {
       "model_id": "56c164f2261f48d894abd7549e031e70",
       "version_major": 2,
       "version_minor": 0
      },
      "text/plain": [
       "tokenizer_config.json:   0%|          | 0.00/50.5k [00:00<?, ?B/s]"
      ]
     },
     "metadata": {},
     "output_type": "display_data"
    },
    {
     "data": {
      "application/vnd.jupyter.widget-view+json": {
       "model_id": "24c4bf50dfbf47c8833adb1d29ce7c92",
       "version_major": 2,
       "version_minor": 0
      },
      "text/plain": [
       "tokenizer.json:   0%|          | 0.00/9.09M [00:00<?, ?B/s]"
      ]
     },
     "metadata": {},
     "output_type": "display_data"
    },
    {
     "data": {
      "application/vnd.jupyter.widget-view+json": {
       "model_id": "af5d95974cc645adb6426d152d925f64",
       "version_major": 2,
       "version_minor": 0
      },
      "text/plain": [
       "special_tokens_map.json:   0%|          | 0.00/301 [00:00<?, ?B/s]"
      ]
     },
     "metadata": {},
     "output_type": "display_data"
    },
    {
     "data": {
      "application/vnd.jupyter.widget-view+json": {
       "model_id": "e6d0f3155d4d4a4b949ef1059b821038",
       "version_major": 2,
       "version_minor": 0
      },
      "text/plain": [
       "config.json:   0%|          | 0.00/843 [00:00<?, ?B/s]"
      ]
     },
     "metadata": {},
     "output_type": "display_data"
    },
    {
     "data": {
      "application/vnd.jupyter.widget-view+json": {
       "model_id": "f723a500af584477ad72b728e55fb56e",
       "version_major": 2,
       "version_minor": 0
      },
      "text/plain": [
       "model.safetensors:   0%|          | 0.00/2.47G [00:00<?, ?B/s]"
      ]
     },
     "metadata": {},
     "output_type": "display_data"
    },
    {
     "data": {
      "application/vnd.jupyter.widget-view+json": {
       "model_id": "bed639627e1e4d78b742fbe3d7e47820",
       "version_major": 2,
       "version_minor": 0
      },
      "text/plain": [
       "generation_config.json:   0%|          | 0.00/185 [00:00<?, ?B/s]"
      ]
     },
     "metadata": {},
     "output_type": "display_data"
    },
    {
     "name": "stdout",
     "output_type": "stream",
     "text": [
      "Filtering sequences...\n",
      "Found 1000 valid sequences\n"
     ]
    },
    {
     "name": "stderr",
     "output_type": "stream",
     "text": [
      "Calculating perplexities: 100%|██████████| 1000/1000 [00:35<00:00, 28.28it/s]\n"
     ]
    },
    {
     "name": "stdout",
     "output_type": "stream",
     "text": [
      "Successfully processed 1000 sequences\n",
      "Selecting best sequences...\n",
      "Selected 128 sequences for calibration\n",
      "\n",
      "Top 5 sequences perplexity scores:\n",
      "Sequence 1: 1.23\n",
      "Sequence 2: 2.98\n",
      "Sequence 3: 3.19\n",
      "Sequence 4: 3.71\n",
      "Sequence 5: 4.04\n",
      "\n",
      "Saving perplexity scores...\n"
     ]
    }
   ],
   "source": [
    "#!/usr/bin/env python3\n",
    "import torch\n",
    "from transformers import AutoModelForCausalLM, AutoTokenizer\n",
    "from datasets import load_dataset, Dataset\n",
    "from tqdm import tqdm\n",
    "import numpy as np\n",
    "\n",
    "def calculate_perplexity(text, model, tokenizer, max_length=2048):\n",
    "    \"\"\"Calculate perplexity for a single text.\"\"\"\n",
    "    try:\n",
    "        # Ensure text is a string and truncate if needed\n",
    "        if isinstance(text, list):\n",
    "            text = ' '.join(text)\n",
    "        text = text[:max_length * 4]  # Rough estimate for token/char ratio\n",
    "        \n",
    "        # Tokenize\n",
    "        input_ids = tokenizer.encode(text, return_tensors='pt').to(model.device)\n",
    "        \n",
    "        # Truncate if still too long\n",
    "        if input_ids.size(1) > max_length:\n",
    "            input_ids = input_ids[:, :max_length]\n",
    "        \n",
    "        with torch.no_grad():\n",
    "            outputs = model(input_ids)\n",
    "            shift_logits = outputs.logits[..., :-1, :].contiguous()\n",
    "            shift_labels = input_ids[..., 1:].contiguous()\n",
    "            \n",
    "            loss_fct = torch.nn.CrossEntropyLoss(reduction='mean')\n",
    "            loss = loss_fct(shift_logits.view(-1, shift_logits.size(-1)), \n",
    "                          shift_labels.view(-1))\n",
    "            \n",
    "        return torch.exp(loss).cpu().item()\n",
    "    except Exception as e:\n",
    "        print(f\"Error processing text: {e}\")\n",
    "        return float('inf')\n",
    "\n",
    "def main():\n",
    "    MODEL_ID = \"meta-llama/Llama-3.1-8B\"\n",
    "    NUM_SAMPLES = 128\n",
    "    SEQUENCE_LENGTH = 2048\n",
    "    INITIAL_SAMPLES = 1000\n",
    "    \n",
    "    print(\"Loading DCLM-micro dataset...\")\n",
    "    ds = load_dataset(\"robbiegwaldd/dclm-micro\")\n",
    "    \n",
    "    print(f\"Loading {MODEL_ID} for perplexity scoring...\")\n",
    "    tokenizer = AutoTokenizer.from_pretrained(MODEL_ID)\n",
    "    model = AutoModelForCausalLM.from_pretrained(\n",
    "        MODEL_ID,\n",
    "        torch_dtype=torch.float16,\n",
    "        device_map=\"auto\",\n",
    "    )\n",
    "    \n",
    "    # Sample initial sequences\n",
    "    indices = [int(i) for i in np.random.choice(len(ds['train']), INITIAL_SAMPLES, replace=False)]\n",
    "    initial_data = ds['train'].select(indices)\n",
    "    texts = initial_data['text']\n",
    "    \n",
    "    # Filter valid sequences\n",
    "    valid_texts = []\n",
    "    print(\"Filtering sequences...\")\n",
    "    for text in texts:\n",
    "        if len(text) >= 100:  # Minimum length check\n",
    "            valid_texts.append(text[:SEQUENCE_LENGTH * 4])  # Rough char limit\n",
    "    print(f\"Found {len(valid_texts)} valid sequences\")\n",
    "    \n",
    "    # Calculate perplexity for each sequence\n",
    "    perplexities = []\n",
    "    for text in tqdm(valid_texts, desc=\"Calculating perplexities\"):\n",
    "        perplexity = calculate_perplexity(text, model, tokenizer)\n",
    "        if perplexity != float('inf'):\n",
    "            perplexities.append((text, perplexity))\n",
    "    \n",
    "    print(f\"Successfully processed {len(perplexities)} sequences\")\n",
    "    \n",
    "    # Sort and select best sequences\n",
    "    print(\"Selecting best sequences...\")\n",
    "    best_sequences = sorted(perplexities, key=lambda x: x[1])[:NUM_SAMPLES]\n",
    "    calibration_texts = [seq for seq, _ in best_sequences]\n",
    "    \n",
    "    # Create dataset\n",
    "    calibration_data = Dataset.from_dict({'text': calibration_texts})\n",
    "    \n",
    "    print(f\"Selected {len(calibration_texts)} sequences for calibration\")\n",
    "    print(\"\\nTop 5 sequences perplexity scores:\")\n",
    "    for i, (_, score) in enumerate(best_sequences[:5]):\n",
    "        print(f\"Sequence {i + 1}: {score:.2f}\")\n",
    "    \n",
    "    # Save results\n",
    "    print(\"\\nSaving perplexity scores...\")\n",
    "    with open('perplexity_scores.txt', 'w', encoding='utf-8') as f:\n",
    "        for text, score in best_sequences:\n",
    "            f.write(f\"{score:.4f}\\t{text[:100]}...\\n\")\n",
    "    \n",
    "    del model\n",
    "    torch.cuda.empty_cache()\n",
    "    \n",
    "    return calibration_data\n",
    "\n",
    "if __name__ == \"__main__\":\n",
    "    calibration_data = main()"
   ]
  },
  {
   "cell_type": "code",
   "execution_count": 4,
   "id": "f76ebf57-dcf2-4c08-9eb5-6f5f69aea288",
   "metadata": {},
   "outputs": [
    {
     "name": "stdout",
     "output_type": "stream",
     "text": [
      "Loading DCLM-micro dataset...\n",
      "Loading meta-llama/Llama-3.1-8B for perplexity scoring...\n"
     ]
    },
    {
     "data": {
      "application/vnd.jupyter.widget-view+json": {
       "model_id": "6bd29b27db5f40f58836cc57c4eceea6",
       "version_major": 2,
       "version_minor": 0
      },
      "text/plain": [
       "Loading checkpoint shards:   0%|          | 0/4 [00:00<?, ?it/s]"
      ]
     },
     "metadata": {},
     "output_type": "display_data"
    },
    {
     "name": "stderr",
     "output_type": "stream",
     "text": [
      "Calculating perplexities:   0%|          | 680/305259 [01:43<12:49:54,  6.59it/s]\n"
     ]
    },
    {
     "ename": "KeyboardInterrupt",
     "evalue": "",
     "output_type": "error",
     "traceback": [
      "\u001b[0;31m---------------------------------------------------------------------------\u001b[0m",
      "\u001b[0;31mKeyboardInterrupt\u001b[0m                         Traceback (most recent call last)",
      "Cell \u001b[0;32mIn[4], line 86\u001b[0m\n\u001b[1;32m     83\u001b[0m     torch\u001b[38;5;241m.\u001b[39mcuda\u001b[38;5;241m.\u001b[39mempty_cache()\n\u001b[1;32m     85\u001b[0m \u001b[38;5;28;01mif\u001b[39;00m \u001b[38;5;18m__name__\u001b[39m \u001b[38;5;241m==\u001b[39m \u001b[38;5;124m\"\u001b[39m\u001b[38;5;124m__main__\u001b[39m\u001b[38;5;124m\"\u001b[39m:\n\u001b[0;32m---> 86\u001b[0m     \u001b[43mmain\u001b[49m\u001b[43m(\u001b[49m\u001b[43m)\u001b[49m\n",
      "Cell \u001b[0;32mIn[4], line 63\u001b[0m, in \u001b[0;36mmain\u001b[0;34m()\u001b[0m\n\u001b[1;32m     61\u001b[0m \u001b[38;5;28;01mfor\u001b[39;00m idx, text \u001b[38;5;129;01min\u001b[39;00m \u001b[38;5;28menumerate\u001b[39m(tqdm(texts, desc\u001b[38;5;241m=\u001b[39m\u001b[38;5;124m\"\u001b[39m\u001b[38;5;124mCalculating perplexities\u001b[39m\u001b[38;5;124m\"\u001b[39m)):\n\u001b[1;32m     62\u001b[0m     \u001b[38;5;28;01mif\u001b[39;00m \u001b[38;5;28mlen\u001b[39m(text) \u001b[38;5;241m>\u001b[39m\u001b[38;5;241m=\u001b[39m \u001b[38;5;241m100\u001b[39m:  \u001b[38;5;66;03m# Minimum length check\u001b[39;00m\n\u001b[0;32m---> 63\u001b[0m         perplexity \u001b[38;5;241m=\u001b[39m \u001b[43mcalculate_perplexity\u001b[49m\u001b[43m(\u001b[49m\u001b[43mtext\u001b[49m\u001b[43m,\u001b[49m\u001b[43m \u001b[49m\u001b[43mmodel\u001b[49m\u001b[43m,\u001b[49m\u001b[43m \u001b[49m\u001b[43mtokenizer\u001b[49m\u001b[43m)\u001b[49m\n\u001b[1;32m     64\u001b[0m         \u001b[38;5;66;03m# Write immediately to CSV to save progress\u001b[39;00m\n\u001b[1;32m     65\u001b[0m         writer\u001b[38;5;241m.\u001b[39mwriterow([idx, text[:\u001b[38;5;241m1000\u001b[39m], perplexity])  \u001b[38;5;66;03m# Truncate text for CSV\u001b[39;00m\n",
      "Cell \u001b[0;32mIn[4], line 33\u001b[0m, in \u001b[0;36mcalculate_perplexity\u001b[0;34m(text, model, tokenizer, max_length)\u001b[0m\n\u001b[1;32m     29\u001b[0m         loss_fct \u001b[38;5;241m=\u001b[39m torch\u001b[38;5;241m.\u001b[39mnn\u001b[38;5;241m.\u001b[39mCrossEntropyLoss(reduction\u001b[38;5;241m=\u001b[39m\u001b[38;5;124m'\u001b[39m\u001b[38;5;124mmean\u001b[39m\u001b[38;5;124m'\u001b[39m)\n\u001b[1;32m     30\u001b[0m         loss \u001b[38;5;241m=\u001b[39m loss_fct(shift_logits\u001b[38;5;241m.\u001b[39mview(\u001b[38;5;241m-\u001b[39m\u001b[38;5;241m1\u001b[39m, shift_logits\u001b[38;5;241m.\u001b[39msize(\u001b[38;5;241m-\u001b[39m\u001b[38;5;241m1\u001b[39m)), \n\u001b[1;32m     31\u001b[0m                       shift_labels\u001b[38;5;241m.\u001b[39mview(\u001b[38;5;241m-\u001b[39m\u001b[38;5;241m1\u001b[39m))\n\u001b[0;32m---> 33\u001b[0m     \u001b[38;5;28;01mreturn\u001b[39;00m \u001b[43mtorch\u001b[49m\u001b[38;5;241;43m.\u001b[39;49m\u001b[43mexp\u001b[49m\u001b[43m(\u001b[49m\u001b[43mloss\u001b[49m\u001b[43m)\u001b[49m\u001b[38;5;241;43m.\u001b[39;49m\u001b[43mcpu\u001b[49m\u001b[43m(\u001b[49m\u001b[43m)\u001b[49m\u001b[38;5;241m.\u001b[39mitem()\n\u001b[1;32m     34\u001b[0m \u001b[38;5;28;01mexcept\u001b[39;00m \u001b[38;5;167;01mException\u001b[39;00m \u001b[38;5;28;01mas\u001b[39;00m e:\n\u001b[1;32m     35\u001b[0m     \u001b[38;5;28mprint\u001b[39m(\u001b[38;5;124mf\u001b[39m\u001b[38;5;124m\"\u001b[39m\u001b[38;5;124mError processing text: \u001b[39m\u001b[38;5;132;01m{\u001b[39;00me\u001b[38;5;132;01m}\u001b[39;00m\u001b[38;5;124m\"\u001b[39m)\n",
      "\u001b[0;31mKeyboardInterrupt\u001b[0m: "
     ]
    }
   ],
   "source": [
    "#!/usr/bin/env python3\n",
    "import torch\n",
    "from transformers import AutoModelForCausalLM, AutoTokenizer\n",
    "from datasets import load_dataset, Dataset\n",
    "from tqdm import tqdm\n",
    "import pandas as pd\n",
    "import csv\n",
    "\n",
    "def calculate_perplexity(text, model, tokenizer, max_length=2048):\n",
    "    \"\"\"Calculate perplexity for a single text.\"\"\"\n",
    "    try:\n",
    "        # Ensure text is a string and truncate if needed\n",
    "        if isinstance(text, list):\n",
    "            text = ' '.join(text)\n",
    "        text = text[:max_length * 4]  # Rough estimate for token/char ratio\n",
    "        \n",
    "        # Tokenize\n",
    "        input_ids = tokenizer.encode(text, return_tensors='pt').to(model.device)\n",
    "        \n",
    "        # Truncate if still too long\n",
    "        if input_ids.size(1) > max_length:\n",
    "            input_ids = input_ids[:, :max_length]\n",
    "        \n",
    "        with torch.no_grad():\n",
    "            outputs = model(input_ids)\n",
    "            shift_logits = outputs.logits[..., :-1, :].contiguous()\n",
    "            shift_labels = input_ids[..., 1:].contiguous()\n",
    "            \n",
    "            loss_fct = torch.nn.CrossEntropyLoss(reduction='mean')\n",
    "            loss = loss_fct(shift_logits.view(-1, shift_logits.size(-1)), \n",
    "                          shift_labels.view(-1))\n",
    "            \n",
    "        return torch.exp(loss).cpu().item()\n",
    "    except Exception as e:\n",
    "        print(f\"Error processing text: {e}\")\n",
    "        return float('inf')\n",
    "\n",
    "def main():\n",
    "    MODEL_ID = \"meta-llama/Llama-3.1-8B\"\n",
    "    SEQUENCE_LENGTH = 2048\n",
    "    CSV_FILE = 'dclm_perplexities.csv'\n",
    "    \n",
    "    print(\"Loading DCLM-micro dataset...\")\n",
    "    ds = load_dataset(\"robbiegwaldd/dclm-micro\")\n",
    "    texts = ds['train']['text']\n",
    "    \n",
    "    print(f\"Loading {MODEL_ID} for perplexity scoring...\")\n",
    "    tokenizer = AutoTokenizer.from_pretrained(MODEL_ID)\n",
    "    model = AutoModelForCausalLM.from_pretrained(\n",
    "        MODEL_ID,\n",
    "        torch_dtype=torch.float16,\n",
    "        device_map=\"auto\",\n",
    "    )\n",
    "    \n",
    "    # Open CSV file and write header\n",
    "    with open(CSV_FILE, 'w', newline='', encoding='utf-8') as f:\n",
    "        writer = csv.writer(f)\n",
    "        writer.writerow(['index', 'text', 'perplexity'])\n",
    "        \n",
    "        # Process all sequences\n",
    "        for idx, text in enumerate(tqdm(texts, desc=\"Calculating perplexities\")):\n",
    "            if len(text) >= 100:  # Minimum length check\n",
    "                perplexity = calculate_perplexity(text, model, tokenizer)\n",
    "                # Write immediately to CSV to save progress\n",
    "                writer.writerow([idx, text[:1000], perplexity])  # Truncate text for CSV\n",
    "            \n",
    "            # Save progress every 100 sequences\n",
    "            if idx % 100 == 0:\n",
    "                f.flush()\n",
    "    \n",
    "    print(f\"\\nResults saved to {CSV_FILE}\")\n",
    "    \n",
    "    # Load and display some statistics\n",
    "    df = pd.read_csv(CSV_FILE)\n",
    "    print(\"\\nDataset statistics:\")\n",
    "    print(f\"Total sequences processed: {len(df)}\")\n",
    "    print(f\"Average perplexity: {df['perplexity'].mean():.2f}\")\n",
    "    print(f\"Median perplexity: {df['perplexity'].median():.2f}\")\n",
    "    print(\"\\nTop 5 sequences by perplexity:\")\n",
    "    print(df.nsmallest(5, 'perplexity')[['index', 'perplexity']])\n",
    "    \n",
    "    del model\n",
    "    torch.cuda.empty_cache()\n",
    "\n",
    "if __name__ == \"__main__\":\n",
    "    main()"
   ]
  },
  {
   "cell_type": "code",
   "execution_count": null,
   "id": "e7d7654a-a9b7-4b18-a636-60dfb1c651e1",
   "metadata": {},
   "outputs": [
    {
     "name": "stdout",
     "output_type": "stream",
     "text": [
      "Loading DCLM-micro dataset...\n",
      "Loading meta-llama/Llama-3.1-8B for perplexity scoring...\n"
     ]
    },
    {
     "name": "stderr",
     "output_type": "stream",
     "text": [
      "/usr/local/lib/python3.10/dist-packages/torchvision/io/image.py:13: UserWarning: Failed to load image Python extension: '/usr/local/lib/python3.10/dist-packages/torchvision/image.so: undefined symbol: _ZN3c1017RegisterOperatorsD1Ev'If you don't plan on using image functionality from `torchvision.io`, you can ignore this warning. Otherwise, there might be something wrong with your environment. Did you have `libjpeg` or `libpng` installed before building `torchvision` from source?\n",
      "  warn(\n"
     ]
    },
    {
     "data": {
      "application/vnd.jupyter.widget-view+json": {
       "model_id": "e2ce349a308a453184fe2ae863fc08d1",
       "version_major": 2,
       "version_minor": 0
      },
      "text/plain": [
       "Loading checkpoint shards:   0%|          | 0/4 [00:00<?, ?it/s]"
      ]
     },
     "metadata": {},
     "output_type": "display_data"
    },
    {
     "name": "stderr",
     "output_type": "stream",
     "text": [
      "Processing batches:   0%|          | 47/38158 [02:09<28:47:27,  2.72s/it]"
     ]
    }
   ],
   "source": [
    "#!/usr/bin/env python3\n",
    "import torch\n",
    "from transformers import AutoModelForCausalLM, AutoTokenizer\n",
    "from datasets import load_dataset\n",
    "from tqdm import tqdm\n",
    "import pandas as pd\n",
    "import numpy as np\n",
    "\n",
    "def calculate_batch_perplexity(texts, model, tokenizer, max_length=2048):\n",
    "    \"\"\"Calculate perplexity for a batch of texts.\"\"\"\n",
    "    try:\n",
    "        # Tokenize batch\n",
    "        encodings = tokenizer(\n",
    "            texts,\n",
    "            return_tensors='pt',\n",
    "            max_length=max_length,\n",
    "            truncation=True,\n",
    "            padding=True\n",
    "        ).to(model.device)\n",
    "        \n",
    "        with torch.no_grad():\n",
    "            outputs = model(**encodings)\n",
    "            shift_logits = outputs.logits[..., :-1, :].contiguous()\n",
    "            shift_labels = encodings['input_ids'][..., 1:].contiguous()\n",
    "            shift_mask = encodings['attention_mask'][..., 1:].contiguous()\n",
    "            \n",
    "            # Calculate loss for each sequence\n",
    "            loss_fct = torch.nn.CrossEntropyLoss(reduction='none')\n",
    "            losses = loss_fct(shift_logits.view(-1, shift_logits.size(-1)), \n",
    "                            shift_labels.view(-1))\n",
    "            \n",
    "            # Reshape and apply mask\n",
    "            losses = losses.view(shift_labels.size()) * shift_mask\n",
    "            \n",
    "            # Calculate mean loss per sequence\n",
    "            seq_lengths = shift_mask.sum(dim=1)\n",
    "            seq_losses = losses.sum(dim=1) / seq_lengths\n",
    "            \n",
    "            # Convert to perplexity\n",
    "            perplexities = torch.exp(seq_losses).cpu().numpy()\n",
    "            \n",
    "        return perplexities\n",
    "    except Exception as e:\n",
    "        print(f\"Error in batch: {e}\")\n",
    "        return np.array([float('inf')] * len(texts))\n",
    "\n",
    "def main():\n",
    "    MODEL_ID = \"meta-llama/Llama-3.1-8B\"\n",
    "    BATCH_SIZE = 8  # Adjust based on your GPU memory\n",
    "    SEQUENCE_LENGTH = 512\n",
    "    CSV_FILE = 'dclm_perplexities.csv'\n",
    "    \n",
    "    print(\"Loading DCLM-micro dataset...\")\n",
    "    ds = load_dataset(\"robbiegwaldd/dclm-micro\")\n",
    "    \n",
    "    print(f\"Loading {MODEL_ID} for perplexity scoring...\")\n",
    "    tokenizer = AutoTokenizer.from_pretrained(MODEL_ID)\n",
    "    if tokenizer.pad_token is None:\n",
    "        tokenizer.pad_token = tokenizer.eos_token\n",
    "        \n",
    "    model = AutoModelForCausalLM.from_pretrained(\n",
    "        MODEL_ID,\n",
    "        torch_dtype=torch.float16,\n",
    "        device_map=\"auto\",\n",
    "    )\n",
    "    \n",
    "    # Process in batches and save results\n",
    "    results = []\n",
    "    texts = ds['train']['text']\n",
    "    \n",
    "    for i in tqdm(range(0, len(texts), BATCH_SIZE), desc=\"Processing batches\"):\n",
    "        batch_texts = texts[i:i + BATCH_SIZE]\n",
    "        # Filter out too short sequences\n",
    "        valid_indices = [j for j, text in enumerate(batch_texts) if len(text) >= 100]\n",
    "        if not valid_indices:\n",
    "            continue\n",
    "            \n",
    "        valid_texts = [batch_texts[j] for j in valid_indices]\n",
    "        batch_perplexities = calculate_batch_perplexity(valid_texts, model, tokenizer)\n",
    "        \n",
    "        # Save results\n",
    "        for idx, perp in zip(range(i, i + len(valid_texts)), batch_perplexities):\n",
    "            results.append({\n",
    "                'index': idx,\n",
    "                'text': texts[idx][:1000],  # Truncate text for CSV\n",
    "                'perplexity': float(perp)\n",
    "            })\n",
    "        \n",
    "        # Save progress periodically\n",
    "        if len(results) % 100 == 0:\n",
    "            df = pd.DataFrame(results)\n",
    "            df.to_csv(CSV_FILE, index=False)\n",
    "    \n",
    "    # Save final results\n",
    "    df = pd.DataFrame(results)\n",
    "    df.to_csv(CSV_FILE, index=False)\n",
    "    \n",
    "    print(f\"\\nResults saved to {CSV_FILE}\")\n",
    "    print(\"\\nDataset statistics:\")\n",
    "    print(f\"Total sequences processed: {len(df)}\")\n",
    "    print(f\"Average perplexity: {df['perplexity'].mean():.2f}\")\n",
    "    print(f\"Median perplexity: {df['perplexity'].median():.2f}\")\n",
    "    print(\"\\nTop 5 sequences by perplexity:\")\n",
    "    print(df.nsmallest(5, 'perplexity')[['index', 'perplexity']])\n",
    "    \n",
    "    del model\n",
    "    torch.cuda.empty_cache()\n",
    "\n",
    "if __name__ == \"__main__\":\n",
    "    main()"
   ]
  },
  {
   "cell_type": "code",
   "execution_count": null,
   "id": "d7007d8d-41f7-4728-9f5d-364918b55d57",
   "metadata": {},
   "outputs": [
    {
     "name": "stdout",
     "output_type": "stream",
     "text": [
      "Loading DCLM-micro dataset...\n",
      "Loading meta-llama/Llama-3.1-8B for perplexity scoring...\n"
     ]
    },
    {
     "name": "stderr",
     "output_type": "stream",
     "text": [
      "/usr/local/lib/python3.10/dist-packages/torchvision/io/image.py:13: UserWarning: Failed to load image Python extension: '/usr/local/lib/python3.10/dist-packages/torchvision/image.so: undefined symbol: _ZN3c1017RegisterOperatorsD1Ev'If you don't plan on using image functionality from `torchvision.io`, you can ignore this warning. Otherwise, there might be something wrong with your environment. Did you have `libjpeg` or `libpng` installed before building `torchvision` from source?\n",
      "  warn(\n"
     ]
    },
    {
     "data": {
      "application/vnd.jupyter.widget-view+json": {
       "model_id": "bcca3cfff87344fb8c89121c3ee282bd",
       "version_major": 2,
       "version_minor": 0
      },
      "text/plain": [
       "Loading checkpoint shards:   0%|          | 0/4 [00:00<?, ?it/s]"
      ]
     },
     "metadata": {},
     "output_type": "display_data"
    },
    {
     "name": "stderr",
     "output_type": "stream",
     "text": [
      "Processing batches:   3%|▎         | 144/4770 [05:29<2:56:17,  2.29s/it]"
     ]
    }
   ],
   "source": [
    "#!/usr/bin/env python3\n",
    "import torch\n",
    "from transformers import AutoModelForCausalLM, AutoTokenizer\n",
    "from datasets import load_dataset\n",
    "from tqdm import tqdm\n",
    "import pandas as pd\n",
    "import numpy as np\n",
    "\n",
    "def filter_by_token_length(texts, tokenizer, min_length=100, max_length=512):\n",
    "    \"\"\"Filter texts by their tokenized length.\"\"\"\n",
    "    valid_texts = []\n",
    "    valid_indices = []\n",
    "    \n",
    "    for idx, text in enumerate(texts):\n",
    "        tokens = tokenizer(text, truncation=False)['input_ids']\n",
    "        token_length = len(tokens)\n",
    "        if min_length <= token_length <= max_length:\n",
    "            valid_texts.append(text)\n",
    "            valid_indices.append(idx)\n",
    "    \n",
    "    return valid_texts, valid_indices\n",
    "\n",
    "def calculate_batch_perplexity(texts, model, tokenizer, max_length=512):\n",
    "    \"\"\"Calculate perplexity for a batch of texts.\"\"\"\n",
    "    try:\n",
    "        encodings = tokenizer(\n",
    "            texts,\n",
    "            return_tensors='pt',\n",
    "            max_length=max_length,\n",
    "            truncation=True,\n",
    "            padding=True\n",
    "        ).to(model.device)\n",
    "        \n",
    "        with torch.no_grad():\n",
    "            outputs = model(**encodings)\n",
    "            shift_logits = outputs.logits[..., :-1, :].contiguous()\n",
    "            shift_labels = encodings['input_ids'][..., 1:].contiguous()\n",
    "            shift_mask = encodings['attention_mask'][..., 1:].contiguous()\n",
    "            \n",
    "            loss_fct = torch.nn.CrossEntropyLoss(reduction='none')\n",
    "            losses = loss_fct(shift_logits.view(-1, shift_logits.size(-1)), \n",
    "                            shift_labels.view(-1))\n",
    "            \n",
    "            losses = losses.view(shift_labels.size()) * shift_mask\n",
    "            seq_lengths = shift_mask.sum(dim=1)\n",
    "            seq_losses = losses.sum(dim=1) / seq_lengths\n",
    "            perplexities = torch.exp(seq_losses).cpu().numpy()\n",
    "            \n",
    "        return perplexities\n",
    "    except Exception as e:\n",
    "        print(f\"Error in batch: {e}\")\n",
    "        return np.array([float('inf')] * len(texts))\n",
    "\n",
    "def main():\n",
    "    MODEL_ID = \"meta-llama/Llama-3.1-8B\"\n",
    "    BATCH_SIZE = 64\n",
    "    SEQUENCE_LENGTH = 512\n",
    "    CSV_FILE = 'dclm_perplexities_512.csv'\n",
    "    \n",
    "    print(\"Loading DCLM-micro dataset...\")\n",
    "    ds = load_dataset(\"robbiegwaldd/dclm-micro\")\n",
    "    \n",
    "    print(f\"Loading {MODEL_ID} for perplexity scoring...\")\n",
    "    tokenizer = AutoTokenizer.from_pretrained(MODEL_ID)\n",
    "    if tokenizer.pad_token is None:\n",
    "        tokenizer.pad_token = tokenizer.eos_token\n",
    "        \n",
    "    model = AutoModelForCausalLM.from_pretrained(\n",
    "        MODEL_ID,\n",
    "        torch_dtype=torch.float16,\n",
    "        device_map=\"auto\",\n",
    "    )\n",
    "    model.eval()\n",
    "    \n",
    "    results = []\n",
    "    texts = ds['train']['text']\n",
    "    \n",
    "    for i in tqdm(range(0, len(texts), BATCH_SIZE), desc=\"Processing batches\"):\n",
    "        batch_texts = texts[i:i + BATCH_SIZE]\n",
    "        \n",
    "        # Filter by token length\n",
    "        valid_texts, valid_indices = filter_by_token_length(\n",
    "            batch_texts, \n",
    "            tokenizer, \n",
    "            min_length=100, \n",
    "            max_length=SEQUENCE_LENGTH\n",
    "        )\n",
    "        \n",
    "        if not valid_texts:\n",
    "            continue\n",
    "        \n",
    "        batch_perplexities = calculate_batch_perplexity(valid_texts, model, tokenizer)\n",
    "        \n",
    "        # Save results using original indices\n",
    "        for local_idx, perp in zip(valid_indices, batch_perplexities):\n",
    "            results.append({\n",
    "                'index': i + local_idx,\n",
    "                'text': batch_texts[local_idx][:1000],  # Truncate text for CSV\n",
    "                'perplexity': float(perp),\n",
    "                'token_length': len(tokenizer(batch_texts[local_idx])['input_ids'])\n",
    "            })\n",
    "        \n",
    "        # Save progress periodically\n",
    "        if len(results) % 100 == 0:\n",
    "            df = pd.DataFrame(results)\n",
    "            df.to_csv(CSV_FILE, index=False)\n",
    "    \n",
    "    # Save final results\n",
    "    df = pd.DataFrame(results)\n",
    "    df.to_csv(CSV_FILE, index=False)\n",
    "    \n",
    "    print(f\"\\nResults saved to {CSV_FILE}\")\n",
    "    print(\"\\nDataset statistics:\")\n",
    "    print(f\"Total sequences processed: {len(df)}\")\n",
    "    print(f\"Average perplexity: {df['perplexity'].mean():.2f}\")\n",
    "    print(f\"Median perplexity: {df['perplexity'].median():.2f}\")\n",
    "    print(f\"Average token length: {df['token_length'].mean():.2f}\")\n",
    "    print(\"\\nTop 5 sequences by perplexity:\")\n",
    "    print(df.nsmallest(5, 'perplexity')[['index', 'token_length', 'perplexity']])\n",
    "    \n",
    "    del model\n",
    "    torch.cuda.empty_cache()\n",
    "\n",
    "if __name__ == \"__main__\":\n",
    "    main()"
   ]
  },
  {
   "cell_type": "code",
   "execution_count": null,
   "id": "3e8e9205-7d1c-45c4-b900-cdbe560a3d26",
   "metadata": {},
   "outputs": [],
   "source": []
  }
 ],
 "metadata": {
  "kernelspec": {
   "display_name": "Python 3 (ipykernel)",
   "language": "python",
   "name": "python3"
  },
  "language_info": {
   "codemirror_mode": {
    "name": "ipython",
    "version": 3
   },
   "file_extension": ".py",
   "mimetype": "text/x-python",
   "name": "python",
   "nbconvert_exporter": "python",
   "pygments_lexer": "ipython3",
   "version": "3.10.12"
  }
 },
 "nbformat": 4,
 "nbformat_minor": 5
}
